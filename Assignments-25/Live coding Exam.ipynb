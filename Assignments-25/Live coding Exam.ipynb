{
 "cells": [
  {
   "cell_type": "code",
   "execution_count": 1,
   "id": "0aa806c3-9683-4a67-9abf-4832816ba554",
   "metadata": {},
   "outputs": [],
   "source": [
    "import pandas as pd\n",
    "import numpy as np "
   ]
  },
  {
   "cell_type": "markdown",
   "id": "a350caa8-3c84-4da3-bbbe-bc3c596f7374",
   "metadata": {},
   "source": [
    "Question 1: Python Fundamentals (15 Marks)\n",
    "### (a) Control Structures"
   ]
  },
  {
   "cell_type": "code",
   "execution_count": 126,
   "id": "1af33c61-cdee-4dcf-aae8-63079e750ce4",
   "metadata": {},
   "outputs": [
    {
     "name": "stdin",
     "output_type": "stream",
     "text": [
      "Enter your number:  15\n"
     ]
    },
    {
     "name": "stdout",
     "output_type": "stream",
     "text": [
      "Fizz\n",
      "Buzz\n",
      "FizzBuzz\n",
      "None\n"
     ]
    }
   ],
   "source": [
    "def fizz_buzz(n):\n",
    "    for i in range(1, n + 1):\n",
    "        if i % 3 == 0 and i % 5 == 0:\n",
    "            print(\"FizzBuzz\")\n",
    "        elif i % 3 == 0:\n",
    "            print(\"Fizz\")\n",
    "        elif i % 5 == 0:\n",
    "            print(\"Buzz\")\n",
    "        else:\n",
    "            return 0\n",
    "\n",
    "num = int(input('Enter your number: '))\n",
    "result = fiz_buzz(num)\n",
    "print(result)"
   ]
  },
  {
   "cell_type": "markdown",
   "id": "0cf65fce-2a12-42b8-a3c0-f6bd36c4eba2",
   "metadata": {},
   "source": [
    "## (b) Functions and Scope"
   ]
  },
  {
   "cell_type": "code",
   "execution_count": null,
   "id": "992ab4a5-cfa1-4400-92ca-9a0ce69b24f7",
   "metadata": {},
   "outputs": [],
   "source": [
    "Explain the concept of variable scope in Python with an example. Include the differences between\n",
    "local, global, and nonlocal variables in your explanation."
   ]
  },
  {
   "cell_type": "markdown",
   "id": "70334bd8-44e0-42cf-bb52-a9b788163d43",
   "metadata": {},
   "source": [
    "### **Two kind of variable scope**\n",
    "- 1) Local scope   \n",
    "- ans: Local scope function that can be only use in the inside that function.\n",
    "    \n",
    "- 2) Global scope\n",
    "- ans: Global scope function that can be only use in the Outside that function."
   ]
  },
  {
   "cell_type": "code",
   "execution_count": 128,
   "id": "087294d5-4868-44b9-b74e-42d5f0f3545d",
   "metadata": {},
   "outputs": [
    {
     "name": "stdout",
     "output_type": "stream",
     "text": [
      "10\n"
     ]
    }
   ],
   "source": [
    "# Local scope variable\n",
    "num = 10\n",
    "def local_scope():\n",
    "    print(num)  \n",
    "local_scope()  "
   ]
  },
  {
   "cell_type": "code",
   "execution_count": 11,
   "id": "73b55f0c-e70b-4cb3-8a09-16cd097cd9e6",
   "metadata": {},
   "outputs": [
    {
     "name": "stdout",
     "output_type": "stream",
     "text": [
      "10\n",
      "10\n"
     ]
    }
   ],
   "source": [
    "# Global scope variable\n",
    "num = 10\n",
    "def local_scope():\n",
    "    print(num)\n",
    "    \n",
    "local_scope()\n",
    "print(num)"
   ]
  },
  {
   "cell_type": "markdown",
   "id": "086c81b2-dd62-4dda-8cd1-3a6d68c3cf17",
   "metadata": {},
   "source": [
    "### **Question 2: Data Structures in Python**"
   ]
  },
  {
   "cell_type": "markdown",
   "id": "fd6cad29-328c-4155-8253-2c2da5f1e16b",
   "metadata": {},
   "source": [
    "#### (a) Advanced List Manipulation"
   ]
  },
  {
   "cell_type": "code",
   "execution_count": 46,
   "id": "f67abd0e-8ff7-4f5f-8d7a-7fc80bc57f1c",
   "metadata": {},
   "outputs": [
    {
     "name": "stdout",
     "output_type": "stream",
     "text": [
      "Original list:  [3 6 2 7 5 6 8 5 8 3 7]\n",
      "Remove Duplicate:  [2 3 5 6 7 8]\n",
      "Ascending sorted List1:  [2, 3, 3, 5, 5, 6, 6, 7, 7, 8, 8]\n",
      "Ascending sorted List1:  [5 6 8]\n"
     ]
    }
   ],
   "source": [
    "nums = [3, 6, 2, 7, 5, 6, 8, 5, 8, 3, 7]\n",
    "list1 = np.array(nums)\n",
    "\n",
    "remove_duplicate = np.unique(list1)\n",
    "sorted_list = sorted(list1)\n",
    "middle_value = list1[4:7]\n",
    "\n",
    "\n",
    "print(f\"Original list: \", list1)\n",
    "print(f\"Remove Duplicate: \", remove_duplicate)\n",
    "print(f\"Ascending sorted List1: \", sorted_list)\n",
    "print(f\"Middle value in List1: \", middle_value)"
   ]
  },
  {
   "cell_type": "markdown",
   "id": "69a5639f-2f7e-4908-a6a4-980a9c6a2032",
   "metadata": {},
   "source": [
    "### (b) Dictionary Comprehensions."
   ]
  },
  {
   "cell_type": "code",
   "execution_count": 57,
   "id": "447ad80a-2132-4233-9581-105fa03e5d77",
   "metadata": {},
   "outputs": [
    {
     "name": "stdout",
     "output_type": "stream",
     "text": [
      "D :  68\n",
      "a :  97\n",
      "t :  116\n",
      "a :  97\n",
      "S :  83\n",
      "c :  99\n",
      "i :  105\n",
      "e :  101\n",
      "n :  110\n",
      "c :  99\n",
      "e :  101\n"
     ]
    }
   ],
   "source": [
    "s = \"DataScience\"\n",
    "for i in s:\n",
    "    print(f\"{i} : \", ord(i))"
   ]
  },
  {
   "cell_type": "code",
   "execution_count": null,
   "id": "cf86a527-f6b4-4cfe-ab71-5c7ed989509f",
   "metadata": {},
   "outputs": [],
   "source": []
  },
  {
   "cell_type": "markdown",
   "id": "5504c2bc-bd1a-4d5d-8b7a-836d2b0bb766",
   "metadata": {},
   "source": [
    "# Question 3: NumPy Operations (15 Marks)"
   ]
  },
  {
   "cell_type": "code",
   "execution_count": null,
   "id": "150d6e1a-1a33-425e-b22f-da00775f7917",
   "metadata": {},
   "outputs": [],
   "source": [
    "(a) Array Manipulations (10 Marks)"
   ]
  },
  {
   "cell_type": "code",
   "execution_count": 64,
   "id": "151aebb3-de4b-4a25-a4f3-d9d389e84bba",
   "metadata": {},
   "outputs": [
    {
     "name": "stdout",
     "output_type": "stream",
     "text": [
      "Numpy array create:  [[ 1  2  3  4]\n",
      " [ 5  6  7  8]\n",
      " [ 9 10 11 12]\n",
      " [13 14 15 16]]\n",
      "Numpy array create:  [[ 1  2]\n",
      " [ 3  4]\n",
      " [ 5  6]\n",
      " [ 7  8]\n",
      " [ 9 10]\n",
      " [11 12]\n",
      " [13 14]\n",
      " [15 16]]\n",
      "dot product of the original array with its transpose:  [[ 30  70 110 150]\n",
      " [ 70 174 278 382]\n",
      " [110 278 446 614]\n",
      " [150 382 614 846]]\n"
     ]
    }
   ],
   "source": [
    "arrary = np.array([\n",
    "    [1,2,3,4],\n",
    "    [5,6,7,8], \n",
    "    [9,10,11,12], \n",
    "    [13,14,15,16]]\n",
    ")\n",
    "reshape_array = arrary.reshape(8, 2)\n",
    "transpose_array = np.transpose(arrary)\n",
    "dot_product = np.dot(arrary, transpose_array)\n",
    "\n",
    "print(f\"Numpy array create: \", arrary) \n",
    "print(f\"Numpy array create: \", reshape_array)\n",
    "print(f\"dot product of the original array with its transpose: \", dot_product) "
   ]
  },
  {
   "cell_type": "code",
   "execution_count": null,
   "id": "565dc156-2390-4bf6-ae2f-5ef8d4cb149a",
   "metadata": {},
   "outputs": [],
   "source": [
    "Explain what the result represents. (3 Marks)"
   ]
  },
  {
   "cell_type": "markdown",
   "id": "34733ecb-dbfd-4f9a-86ff-77319e6ab749",
   "metadata": {},
   "source": [
    "### (b) Type Casting and Broadcasting (5 Marks)"
   ]
  },
  {
   "cell_type": "code",
   "execution_count": 131,
   "id": "e37f4466-f943-4e94-8de9-fe828eabc778",
   "metadata": {},
   "outputs": [
    {
     "name": "stdout",
     "output_type": "stream",
     "text": [
      "Integer Array: [1 2 3 4]\n",
      "Broadcasting is: [[11 12 13 14]\n",
      " [21 22 23 24]\n",
      " [31 32 33 34]\n",
      " [41 42 43 44]]\n"
     ]
    }
   ],
   "source": [
    "a = np.array([1.5, 2.3, 3.7, 4.6])\n",
    "\n",
    "int_array = a.astype(int)\n",
    "print(\"Integer Array:\", int_array)\n",
    "    \n",
    "b = np.array([[10], [20], [30], [40]])\n",
    "result = b + int_array\n",
    "print(\"Broadcasting is:\", result)"
   ]
  },
  {
   "cell_type": "code",
   "execution_count": null,
   "id": "b17c98f9-a43a-496e-a123-8a8b79e42fee",
   "metadata": {},
   "outputs": [],
   "source": []
  },
  {
   "cell_type": "markdown",
   "id": "cbd03640-c839-4b9c-992e-5932f229c7d7",
   "metadata": {},
   "source": [
    "### Question 4: Data Analysis with Pandas."
   ]
  },
  {
   "cell_type": "code",
   "execution_count": 70,
   "id": "5c82ce0b-7abf-4642-b110-671fd5ed366b",
   "metadata": {},
   "outputs": [
    {
     "data": {
      "text/html": [
       "<div>\n",
       "<style scoped>\n",
       "    .dataframe tbody tr th:only-of-type {\n",
       "        vertical-align: middle;\n",
       "    }\n",
       "\n",
       "    .dataframe tbody tr th {\n",
       "        vertical-align: top;\n",
       "    }\n",
       "\n",
       "    .dataframe thead th {\n",
       "        text-align: right;\n",
       "    }\n",
       "</style>\n",
       "<table border=\"1\" class=\"dataframe\">\n",
       "  <thead>\n",
       "    <tr style=\"text-align: right;\">\n",
       "      <th></th>\n",
       "      <th>TransactionID</th>\n",
       "      <th>CustomerID</th>\n",
       "      <th>ProductID</th>\n",
       "      <th>Quantity</th>\n",
       "      <th>Price</th>\n",
       "      <th>TransactionDate</th>\n",
       "    </tr>\n",
       "  </thead>\n",
       "  <tbody>\n",
       "    <tr>\n",
       "      <th>0</th>\n",
       "      <td>T001</td>\n",
       "      <td>C001</td>\n",
       "      <td>P001</td>\n",
       "      <td>2</td>\n",
       "      <td>20.0</td>\n",
       "      <td>2023-01-15</td>\n",
       "    </tr>\n",
       "    <tr>\n",
       "      <th>1</th>\n",
       "      <td>T002</td>\n",
       "      <td>C002</td>\n",
       "      <td>P003</td>\n",
       "      <td>1</td>\n",
       "      <td>35.5</td>\n",
       "      <td>2023-01-16</td>\n",
       "    </tr>\n",
       "    <tr>\n",
       "      <th>2</th>\n",
       "      <td>T003</td>\n",
       "      <td>C003</td>\n",
       "      <td>P002</td>\n",
       "      <td>5</td>\n",
       "      <td>15.0</td>\n",
       "      <td>2023-01-17</td>\n",
       "    </tr>\n",
       "    <tr>\n",
       "      <th>3</th>\n",
       "      <td>T004</td>\n",
       "      <td>C001</td>\n",
       "      <td>P002</td>\n",
       "      <td>3</td>\n",
       "      <td>15.0</td>\n",
       "      <td>2023-02-01</td>\n",
       "    </tr>\n",
       "    <tr>\n",
       "      <th>4</th>\n",
       "      <td>T005</td>\n",
       "      <td>C004</td>\n",
       "      <td>P001</td>\n",
       "      <td>1</td>\n",
       "      <td>20.0</td>\n",
       "      <td>2023-02-05</td>\n",
       "    </tr>\n",
       "  </tbody>\n",
       "</table>\n",
       "</div>"
      ],
      "text/plain": [
       "  TransactionID CustomerID ProductID  Quantity  Price TransactionDate\n",
       "0          T001       C001      P001         2   20.0      2023-01-15\n",
       "1          T002       C002      P003         1   35.5      2023-01-16\n",
       "2          T003       C003      P002         5   15.0      2023-01-17\n",
       "3          T004       C001      P002         3   15.0      2023-02-01\n",
       "4          T005       C004      P001         1   20.0      2023-02-05"
      ]
     },
     "execution_count": 70,
     "metadata": {},
     "output_type": "execute_result"
    }
   ],
   "source": [
    "# (a) Data Loading and Cleaning (10 Marks)\n",
    "\n",
    "df = pd.read_csv('transactions - transactions.csv')\n",
    "df.head()"
   ]
  },
  {
   "cell_type": "code",
   "execution_count": 71,
   "id": "73caf10d-896d-4229-9743-44a8bb725884",
   "metadata": {},
   "outputs": [
    {
     "data": {
      "text/plain": [
       "TransactionID      0\n",
       "CustomerID         0\n",
       "ProductID          0\n",
       "Quantity           0\n",
       "Price              0\n",
       "TransactionDate    0\n",
       "dtype: int64"
      ]
     },
     "execution_count": 71,
     "metadata": {},
     "output_type": "execute_result"
    }
   ],
   "source": [
    "df.isnull().sum()"
   ]
  },
  {
   "cell_type": "code",
   "execution_count": 73,
   "id": "fa6a83fe-a751-4fb6-b8af-950203dbccc0",
   "metadata": {},
   "outputs": [
    {
     "data": {
      "text/html": [
       "<div>\n",
       "<style scoped>\n",
       "    .dataframe tbody tr th:only-of-type {\n",
       "        vertical-align: middle;\n",
       "    }\n",
       "\n",
       "    .dataframe tbody tr th {\n",
       "        vertical-align: top;\n",
       "    }\n",
       "\n",
       "    .dataframe thead th {\n",
       "        text-align: right;\n",
       "    }\n",
       "</style>\n",
       "<table border=\"1\" class=\"dataframe\">\n",
       "  <thead>\n",
       "    <tr style=\"text-align: right;\">\n",
       "      <th></th>\n",
       "      <th>TransactionID</th>\n",
       "      <th>CustomerID</th>\n",
       "      <th>ProductID</th>\n",
       "      <th>Quantity</th>\n",
       "      <th>Price</th>\n",
       "      <th>Year</th>\n",
       "      <th>Month</th>\n",
       "      <th>Day</th>\n",
       "    </tr>\n",
       "  </thead>\n",
       "  <tbody>\n",
       "    <tr>\n",
       "      <th>0</th>\n",
       "      <td>T001</td>\n",
       "      <td>C001</td>\n",
       "      <td>P001</td>\n",
       "      <td>2</td>\n",
       "      <td>20.0</td>\n",
       "      <td>2023</td>\n",
       "      <td>1</td>\n",
       "      <td>15</td>\n",
       "    </tr>\n",
       "    <tr>\n",
       "      <th>1</th>\n",
       "      <td>T002</td>\n",
       "      <td>C002</td>\n",
       "      <td>P003</td>\n",
       "      <td>1</td>\n",
       "      <td>35.5</td>\n",
       "      <td>2023</td>\n",
       "      <td>1</td>\n",
       "      <td>16</td>\n",
       "    </tr>\n",
       "    <tr>\n",
       "      <th>2</th>\n",
       "      <td>T003</td>\n",
       "      <td>C003</td>\n",
       "      <td>P002</td>\n",
       "      <td>5</td>\n",
       "      <td>15.0</td>\n",
       "      <td>2023</td>\n",
       "      <td>1</td>\n",
       "      <td>17</td>\n",
       "    </tr>\n",
       "    <tr>\n",
       "      <th>3</th>\n",
       "      <td>T004</td>\n",
       "      <td>C001</td>\n",
       "      <td>P002</td>\n",
       "      <td>3</td>\n",
       "      <td>15.0</td>\n",
       "      <td>2023</td>\n",
       "      <td>2</td>\n",
       "      <td>1</td>\n",
       "    </tr>\n",
       "    <tr>\n",
       "      <th>4</th>\n",
       "      <td>T005</td>\n",
       "      <td>C004</td>\n",
       "      <td>P001</td>\n",
       "      <td>1</td>\n",
       "      <td>20.0</td>\n",
       "      <td>2023</td>\n",
       "      <td>2</td>\n",
       "      <td>5</td>\n",
       "    </tr>\n",
       "  </tbody>\n",
       "</table>\n",
       "</div>"
      ],
      "text/plain": [
       "  TransactionID CustomerID ProductID  Quantity  Price  Year  Month  Day\n",
       "0          T001       C001      P001         2   20.0  2023      1   15\n",
       "1          T002       C002      P003         1   35.5  2023      1   16\n",
       "2          T003       C003      P002         5   15.0  2023      1   17\n",
       "3          T004       C001      P002         3   15.0  2023      2    1\n",
       "4          T005       C004      P001         1   20.0  2023      2    5"
      ]
     },
     "execution_count": 73,
     "metadata": {},
     "output_type": "execute_result"
    }
   ],
   "source": [
    "df['TransactionDate'] = pd.to_datetime(df['TransactionDate'], errors='coerce')\n",
    "df['Year'] = df['TransactionDate'].dt.year\n",
    "df['Month'] = df['TransactionDate'].dt.month\n",
    "df['Day'] = df['TransactionDate'].dt.day\n",
    "df.drop(columns=['TransactionDate'], inplace=True)  \n",
    "df.head()"
   ]
  },
  {
   "cell_type": "code",
   "execution_count": 77,
   "id": "3919fc3b-25a5-4af4-8b82-24dfe7af206d",
   "metadata": {},
   "outputs": [
    {
     "data": {
      "text/plain": [
       "0     1\n",
       "1     1\n",
       "2     1\n",
       "3     2\n",
       "4     2\n",
       "5     2\n",
       "6     3\n",
       "7     3\n",
       "8     3\n",
       "9     4\n",
       "10    4\n",
       "11    4\n",
       "12    5\n",
       "13    5\n",
       "14    5\n",
       "Name: Month, dtype: int32"
      ]
     },
     "execution_count": 77,
     "metadata": {},
     "output_type": "execute_result"
    }
   ],
   "source": [
    "df['Month'] "
   ]
  },
  {
   "cell_type": "markdown",
   "id": "c5fbe2c0-d94b-4484-9396-df743f51c741",
   "metadata": {},
   "source": [
    "## (b) Data Aggregation and Grouping"
   ]
  },
  {
   "cell_type": "code",
   "execution_count": 133,
   "id": "fd5ada9d-adc1-4158-be46-b065345e4188",
   "metadata": {},
   "outputs": [
    {
     "name": "stdout",
     "output_type": "stream",
     "text": [
      "CustomerID:   CustomerID  TotalRevenue\n",
      "0       C001          85.0\n",
      "1       C002          35.5\n",
      "2       C003          75.0\n",
      "3       C004          20.0\n",
      "top 5 customers:   CustomerID  TotalRevenue\n",
      "0       C001          85.0\n",
      "2       C003          75.0\n",
      "1       C002          35.5\n",
      "3       C004          20.0\n"
     ]
    }
   ],
   "source": [
    "df[\"TotalRevenue\"] = df[\"Quantity\"] * df[\"Price\"]\n",
    "\n",
    "customer_revenue = df.groupby(\"CustomerID\")[\"TotalRevenue\"].sum().reset_index()\n",
    "top_customer = customer_revenue.sort_values(by=\"TotalRevenue\", ascending=False).head(5)\n",
    "\n",
    "print(\"CustomerID:\", customer_revenue)\n",
    "print(\"top 5 customers:\", top_customer)"
   ]
  },
  {
   "cell_type": "code",
   "execution_count": null,
   "id": "bb04c443-f106-4c23-a94c-13fb2bf530e3",
   "metadata": {},
   "outputs": [],
   "source": []
  },
  {
   "cell_type": "code",
   "execution_count": null,
   "id": "47b23f43-ecb0-40fd-a744-481dbcf7b9b3",
   "metadata": {},
   "outputs": [],
   "source": []
  },
  {
   "cell_type": "code",
   "execution_count": null,
   "id": "8b4d9b6e-1535-4c82-ab8f-f4cc07355e60",
   "metadata": {},
   "outputs": [],
   "source": []
  },
  {
   "cell_type": "markdown",
   "id": "ff6e1a0e-6434-425e-9763-47696cf0cfa4",
   "metadata": {},
   "source": [
    "### (c) Merging DataFrames (5 Marks)"
   ]
  },
  {
   "cell_type": "code",
   "execution_count": 86,
   "id": "387cc449-ca0d-41a4-8def-50fd4a265da5",
   "metadata": {},
   "outputs": [
    {
     "data": {
      "text/html": [
       "<div>\n",
       "<style scoped>\n",
       "    .dataframe tbody tr th:only-of-type {\n",
       "        vertical-align: middle;\n",
       "    }\n",
       "\n",
       "    .dataframe tbody tr th {\n",
       "        vertical-align: top;\n",
       "    }\n",
       "\n",
       "    .dataframe thead th {\n",
       "        text-align: right;\n",
       "    }\n",
       "</style>\n",
       "<table border=\"1\" class=\"dataframe\">\n",
       "  <thead>\n",
       "    <tr style=\"text-align: right;\">\n",
       "      <th></th>\n",
       "      <th>TransactionID</th>\n",
       "      <th>CustomerID</th>\n",
       "      <th>ProductID</th>\n",
       "      <th>Quantity</th>\n",
       "      <th>Price</th>\n",
       "      <th>TransactionDate</th>\n",
       "      <th>CustomerID           Name         Segment</th>\n",
       "    </tr>\n",
       "  </thead>\n",
       "  <tbody>\n",
       "    <tr>\n",
       "      <th>0</th>\n",
       "      <td>T001</td>\n",
       "      <td>C001</td>\n",
       "      <td>P001</td>\n",
       "      <td>2</td>\n",
       "      <td>20.0</td>\n",
       "      <td>2023-01-15</td>\n",
       "      <td>0       C001    Alice Smith        Consumer</td>\n",
       "    </tr>\n",
       "    <tr>\n",
       "      <th>1</th>\n",
       "      <td>T002</td>\n",
       "      <td>C002</td>\n",
       "      <td>P003</td>\n",
       "      <td>1</td>\n",
       "      <td>35.5</td>\n",
       "      <td>2023-01-16</td>\n",
       "      <td>1       C002    Bob Johnson       Corporate</td>\n",
       "    </tr>\n",
       "    <tr>\n",
       "      <th>2</th>\n",
       "      <td>T003</td>\n",
       "      <td>C003</td>\n",
       "      <td>P002</td>\n",
       "      <td>5</td>\n",
       "      <td>15.0</td>\n",
       "      <td>2023-01-17</td>\n",
       "      <td>2       C003    Charlie Lee  Small Business</td>\n",
       "    </tr>\n",
       "    <tr>\n",
       "      <th>3</th>\n",
       "      <td>T004</td>\n",
       "      <td>C001</td>\n",
       "      <td>P002</td>\n",
       "      <td>3</td>\n",
       "      <td>15.0</td>\n",
       "      <td>2023-02-01</td>\n",
       "      <td>3       C004   Diana Prince        Consumer</td>\n",
       "    </tr>\n",
       "    <tr>\n",
       "      <th>4</th>\n",
       "      <td>T005</td>\n",
       "      <td>C004</td>\n",
       "      <td>P001</td>\n",
       "      <td>1</td>\n",
       "      <td>20.0</td>\n",
       "      <td>2023-02-05</td>\n",
       "      <td>4       C005  Edward Norton       Corporate</td>\n",
       "    </tr>\n",
       "  </tbody>\n",
       "</table>\n",
       "</div>"
      ],
      "text/plain": [
       "  TransactionID CustomerID ProductID  Quantity  Price TransactionDate  \\\n",
       "0          T001       C001      P001         2   20.0      2023-01-15   \n",
       "1          T002       C002      P003         1   35.5      2023-01-16   \n",
       "2          T003       C003      P002         5   15.0      2023-01-17   \n",
       "3          T004       C001      P002         3   15.0      2023-02-01   \n",
       "4          T005       C004      P001         1   20.0      2023-02-05   \n",
       "\n",
       "     CustomerID           Name         Segment  \n",
       "0  0       C001    Alice Smith        Consumer  \n",
       "1  1       C002    Bob Johnson       Corporate  \n",
       "2  2       C003    Charlie Lee  Small Business  \n",
       "3  3       C004   Diana Prince        Consumer  \n",
       "4  4       C005  Edward Norton       Corporate  "
      ]
     },
     "execution_count": 86,
     "metadata": {},
     "output_type": "execute_result"
    }
   ],
   "source": [
    "df1 = pd.read_csv('transactions - transactions.csv')\n",
    "df2 = pd.read_csv('customers - customers.csv')\n",
    "\n",
    "df = pd.concat([df1, df2], axis=1, join='inner')\n",
    "\n",
    "df.head()"
   ]
  },
  {
   "cell_type": "code",
   "execution_count": 88,
   "id": "bb83dca9-cbc9-48c3-bb75-58d6cae7358f",
   "metadata": {},
   "outputs": [
    {
     "data": {
      "text/html": [
       "<div>\n",
       "<style scoped>\n",
       "    .dataframe tbody tr th:only-of-type {\n",
       "        vertical-align: middle;\n",
       "    }\n",
       "\n",
       "    .dataframe tbody tr th {\n",
       "        vertical-align: top;\n",
       "    }\n",
       "\n",
       "    .dataframe thead th {\n",
       "        text-align: right;\n",
       "    }\n",
       "</style>\n",
       "<table border=\"1\" class=\"dataframe\">\n",
       "  <thead>\n",
       "    <tr style=\"text-align: right;\">\n",
       "      <th></th>\n",
       "      <th>TransactionID</th>\n",
       "      <th>CustomerID</th>\n",
       "      <th>ProductID</th>\n",
       "      <th>Quantity</th>\n",
       "      <th>Price</th>\n",
       "      <th>CustomerID           Name         Segment</th>\n",
       "      <th>Year</th>\n",
       "      <th>Month</th>\n",
       "      <th>Day</th>\n",
       "    </tr>\n",
       "  </thead>\n",
       "  <tbody>\n",
       "    <tr>\n",
       "      <th>0</th>\n",
       "      <td>T001</td>\n",
       "      <td>C001</td>\n",
       "      <td>P001</td>\n",
       "      <td>2</td>\n",
       "      <td>20.0</td>\n",
       "      <td>0       C001    Alice Smith        Consumer</td>\n",
       "      <td>2023</td>\n",
       "      <td>1</td>\n",
       "      <td>15</td>\n",
       "    </tr>\n",
       "    <tr>\n",
       "      <th>1</th>\n",
       "      <td>T002</td>\n",
       "      <td>C002</td>\n",
       "      <td>P003</td>\n",
       "      <td>1</td>\n",
       "      <td>35.5</td>\n",
       "      <td>1       C002    Bob Johnson       Corporate</td>\n",
       "      <td>2023</td>\n",
       "      <td>1</td>\n",
       "      <td>16</td>\n",
       "    </tr>\n",
       "    <tr>\n",
       "      <th>2</th>\n",
       "      <td>T003</td>\n",
       "      <td>C003</td>\n",
       "      <td>P002</td>\n",
       "      <td>5</td>\n",
       "      <td>15.0</td>\n",
       "      <td>2       C003    Charlie Lee  Small Business</td>\n",
       "      <td>2023</td>\n",
       "      <td>1</td>\n",
       "      <td>17</td>\n",
       "    </tr>\n",
       "    <tr>\n",
       "      <th>3</th>\n",
       "      <td>T004</td>\n",
       "      <td>C001</td>\n",
       "      <td>P002</td>\n",
       "      <td>3</td>\n",
       "      <td>15.0</td>\n",
       "      <td>3       C004   Diana Prince        Consumer</td>\n",
       "      <td>2023</td>\n",
       "      <td>2</td>\n",
       "      <td>1</td>\n",
       "    </tr>\n",
       "    <tr>\n",
       "      <th>4</th>\n",
       "      <td>T005</td>\n",
       "      <td>C004</td>\n",
       "      <td>P001</td>\n",
       "      <td>1</td>\n",
       "      <td>20.0</td>\n",
       "      <td>4       C005  Edward Norton       Corporate</td>\n",
       "      <td>2023</td>\n",
       "      <td>2</td>\n",
       "      <td>5</td>\n",
       "    </tr>\n",
       "  </tbody>\n",
       "</table>\n",
       "</div>"
      ],
      "text/plain": [
       "  TransactionID CustomerID ProductID  Quantity  Price  \\\n",
       "0          T001       C001      P001         2   20.0   \n",
       "1          T002       C002      P003         1   35.5   \n",
       "2          T003       C003      P002         5   15.0   \n",
       "3          T004       C001      P002         3   15.0   \n",
       "4          T005       C004      P001         1   20.0   \n",
       "\n",
       "     CustomerID           Name         Segment  Year  Month  Day  \n",
       "0  0       C001    Alice Smith        Consumer  2023      1   15  \n",
       "1  1       C002    Bob Johnson       Corporate  2023      1   16  \n",
       "2  2       C003    Charlie Lee  Small Business  2023      1   17  \n",
       "3  3       C004   Diana Prince        Consumer  2023      2    1  \n",
       "4  4       C005  Edward Norton       Corporate  2023      2    5  "
      ]
     },
     "execution_count": 88,
     "metadata": {},
     "output_type": "execute_result"
    }
   ],
   "source": [
    "df['TransactionDate'] = pd.to_datetime(df['TransactionDate'], errors='coerce')\n",
    "df['Year'] = df['TransactionDate'].dt.year\n",
    "df['Month'] = df['TransactionDate'].dt.month\n",
    "df['Day'] = df['TransactionDate'].dt.day\n",
    "df.drop(columns=['TransactionDate'], inplace=True)  \n",
    "df.head()"
   ]
  },
  {
   "cell_type": "markdown",
   "id": "a569239e-267b-4d27-af36-3f8812daa202",
   "metadata": {},
   "source": [
    "## Question 5: Data Visualization (15 Marks)"
   ]
  },
  {
   "cell_type": "code",
   "execution_count": 102,
   "id": "b5a3d282-7774-4c59-a87f-b2ab0455b751",
   "metadata": {},
   "outputs": [
    {
     "data": {
      "text/html": [
       "<div>\n",
       "<style scoped>\n",
       "    .dataframe tbody tr th:only-of-type {\n",
       "        vertical-align: middle;\n",
       "    }\n",
       "\n",
       "    .dataframe tbody tr th {\n",
       "        vertical-align: top;\n",
       "    }\n",
       "\n",
       "    .dataframe thead th {\n",
       "        text-align: right;\n",
       "    }\n",
       "</style>\n",
       "<table border=\"1\" class=\"dataframe\">\n",
       "  <thead>\n",
       "    <tr style=\"text-align: right;\">\n",
       "      <th></th>\n",
       "      <th>TransactionID</th>\n",
       "      <th>CustomerID</th>\n",
       "      <th>ProductID</th>\n",
       "      <th>Quantity</th>\n",
       "      <th>Price</th>\n",
       "      <th>CustomerID           Name         Segment</th>\n",
       "      <th>Year</th>\n",
       "      <th>Month</th>\n",
       "      <th>Day</th>\n",
       "    </tr>\n",
       "  </thead>\n",
       "  <tbody>\n",
       "    <tr>\n",
       "      <th>0</th>\n",
       "      <td>T001</td>\n",
       "      <td>C001</td>\n",
       "      <td>P001</td>\n",
       "      <td>2</td>\n",
       "      <td>20.0</td>\n",
       "      <td>0       C001    Alice Smith        Consumer</td>\n",
       "      <td>2023</td>\n",
       "      <td>1</td>\n",
       "      <td>15</td>\n",
       "    </tr>\n",
       "    <tr>\n",
       "      <th>1</th>\n",
       "      <td>T002</td>\n",
       "      <td>C002</td>\n",
       "      <td>P003</td>\n",
       "      <td>1</td>\n",
       "      <td>35.5</td>\n",
       "      <td>1       C002    Bob Johnson       Corporate</td>\n",
       "      <td>2023</td>\n",
       "      <td>1</td>\n",
       "      <td>16</td>\n",
       "    </tr>\n",
       "    <tr>\n",
       "      <th>2</th>\n",
       "      <td>T003</td>\n",
       "      <td>C003</td>\n",
       "      <td>P002</td>\n",
       "      <td>5</td>\n",
       "      <td>15.0</td>\n",
       "      <td>2       C003    Charlie Lee  Small Business</td>\n",
       "      <td>2023</td>\n",
       "      <td>1</td>\n",
       "      <td>17</td>\n",
       "    </tr>\n",
       "    <tr>\n",
       "      <th>3</th>\n",
       "      <td>T004</td>\n",
       "      <td>C001</td>\n",
       "      <td>P002</td>\n",
       "      <td>3</td>\n",
       "      <td>15.0</td>\n",
       "      <td>3       C004   Diana Prince        Consumer</td>\n",
       "      <td>2023</td>\n",
       "      <td>2</td>\n",
       "      <td>1</td>\n",
       "    </tr>\n",
       "    <tr>\n",
       "      <th>4</th>\n",
       "      <td>T005</td>\n",
       "      <td>C004</td>\n",
       "      <td>P001</td>\n",
       "      <td>1</td>\n",
       "      <td>20.0</td>\n",
       "      <td>4       C005  Edward Norton       Corporate</td>\n",
       "      <td>2023</td>\n",
       "      <td>2</td>\n",
       "      <td>5</td>\n",
       "    </tr>\n",
       "  </tbody>\n",
       "</table>\n",
       "</div>"
      ],
      "text/plain": [
       "  TransactionID CustomerID ProductID  Quantity  Price  \\\n",
       "0          T001       C001      P001         2   20.0   \n",
       "1          T002       C002      P003         1   35.5   \n",
       "2          T003       C003      P002         5   15.0   \n",
       "3          T004       C001      P002         3   15.0   \n",
       "4          T005       C004      P001         1   20.0   \n",
       "\n",
       "     CustomerID           Name         Segment  Year  Month  Day  \n",
       "0  0       C001    Alice Smith        Consumer  2023      1   15  \n",
       "1  1       C002    Bob Johnson       Corporate  2023      1   16  \n",
       "2  2       C003    Charlie Lee  Small Business  2023      1   17  \n",
       "3  3       C004   Diana Prince        Consumer  2023      2    1  \n",
       "4  4       C005  Edward Norton       Corporate  2023      2    5  "
      ]
     },
     "execution_count": 102,
     "metadata": {},
     "output_type": "execute_result"
    }
   ],
   "source": [
    "# (a) Matplotlib Visualization (7 Marks)\n",
    "df = pd.concat([df1, df2], axis=1, join='inner')\n",
    "\n",
    "df['TransactionDate'] = pd.to_datetime(df['TransactionDate'], errors='coerce')\n",
    "df['Year'] = df['TransactionDate'].dt.year\n",
    "df['Month'] = df['TransactionDate'].dt.month\n",
    "df['Day'] = df['TransactionDate'].dt.day\n",
    "df.drop(columns=['TransactionDate'], inplace=True)  \n",
    "df.head()"
   ]
  },
  {
   "cell_type": "code",
   "execution_count": 104,
   "id": "5d71d1c2-74c1-4b75-a62a-78f08bf603a4",
   "metadata": {},
   "outputs": [
    {
     "data": {
      "image/png": "[encoded data removed]",
      "text/plain": [
       "<Figure size 1000x600 with 1 Axes>"
      ]
     },
     "metadata": {},
     "output_type": "display_data"
    }
   ],
   "source": [
    "df[\"TotalRevenue\"] = df[\"Quantity\"] * df[\"Price\"]\n",
    "\n",
    "monthly_rev = df.groupby(\"Month\")[\"TotalRevenue\"].sum()\n",
    "\n",
    "plt.figure(figsize=(10, 6))\n",
    "plt.plot(monthly_rev.index, monthly_rev.values, marker='X', label='total revenue')\n",
    "\n",
    "plt.title(\"monthly  revenue\")\n",
    "plt.xlabel(\"Month\")\n",
    "plt.ylabel(\"Total Revenue\")\n",
    "\n",
    "plt.legend()\n",
    "plt.show()"
   ]
  },
  {
   "cell_type": "code",
   "execution_count": 100,
   "id": "52a8078f-6071-44db-a35a-71e7b604ac42",
   "metadata": {},
   "outputs": [
    {
     "data": {
      "image/png": "[encoded data removed]",
      "text/plain": [
       "<Figure size 1000x600 with 1 Axes>"
      ]
     },
     "metadata": {},
     "output_type": "display_data"
    }
   ],
   "source": [
    "import seaborn as sns\n",
    "\n",
    "plt.figure(figsize=(10, 6))\n",
    "sns.histplot(df[\"TotalRevenue\"], color='blue')\n",
    "\n",
    "plt.title(\"total revenue\")\n",
    "plt.xlabel(\"total revenue\")\n",
    "plt.ylabel(df[\"Price\"])\n",
    "plt.show()"
   ]
  },
  {
   "cell_type": "markdown",
   "id": "7ed347a9-459b-4e9c-ad01-5c864de6b750",
   "metadata": {},
   "source": [
    "## Question 6: Application of Data Analysis Concepts (10 Marks)"
   ]
  },
  {
   "cell_type": "code",
   "execution_count": null,
   "id": "24dd41c2-a94c-44df-8ff4-e1ecb06a98b3",
   "metadata": {},
   "outputs": [],
   "source": []
  },
  {
   "cell_type": "code",
   "execution_count": null,
   "id": "8285e09b-bc3b-4d00-8d9c-7af7e63b7e65",
   "metadata": {},
   "outputs": [],
   "source": []
  },
  {
   "cell_type": "code",
   "execution_count": null,
   "id": "0f52741d-c3fc-42b5-aeec-eed9976519d6",
   "metadata": {},
   "outputs": [],
   "source": []
  },
  {
   "cell_type": "code",
   "execution_count": null,
   "id": "df96bb9d-9141-4d70-8139-6f70c4cca638",
   "metadata": {},
   "outputs": [],
   "source": [
    "## (b) Data Preprocessing (5 Marks)"
   ]
  },
  {
   "cell_type": "code",
   "execution_count": 105,
   "id": "726877fc-3a3d-4d59-a141-a3464e235b62",
   "metadata": {},
   "outputs": [],
   "source": [
    "data = pd.read_csv('transactions - transactions.csv')"
   ]
  },
  {
   "cell_type": "code",
   "execution_count": 106,
   "id": "f73c8c7e-2590-488a-a652-cfdb232e9f82",
   "metadata": {},
   "outputs": [
    {
     "data": {
      "text/html": [
       "<div>\n",
       "<style scoped>\n",
       "    .dataframe tbody tr th:only-of-type {\n",
       "        vertical-align: middle;\n",
       "    }\n",
       "\n",
       "    .dataframe tbody tr th {\n",
       "        vertical-align: top;\n",
       "    }\n",
       "\n",
       "    .dataframe thead th {\n",
       "        text-align: right;\n",
       "    }\n",
       "</style>\n",
       "<table border=\"1\" class=\"dataframe\">\n",
       "  <thead>\n",
       "    <tr style=\"text-align: right;\">\n",
       "      <th></th>\n",
       "      <th>TransactionID</th>\n",
       "      <th>CustomerID</th>\n",
       "      <th>ProductID</th>\n",
       "      <th>Quantity</th>\n",
       "      <th>Price</th>\n",
       "      <th>TransactionDate</th>\n",
       "    </tr>\n",
       "  </thead>\n",
       "  <tbody>\n",
       "    <tr>\n",
       "      <th>0</th>\n",
       "      <td>T001</td>\n",
       "      <td>C001</td>\n",
       "      <td>P001</td>\n",
       "      <td>2</td>\n",
       "      <td>20.0</td>\n",
       "      <td>2023-01-15</td>\n",
       "    </tr>\n",
       "    <tr>\n",
       "      <th>1</th>\n",
       "      <td>T002</td>\n",
       "      <td>C002</td>\n",
       "      <td>P003</td>\n",
       "      <td>1</td>\n",
       "      <td>35.5</td>\n",
       "      <td>2023-01-16</td>\n",
       "    </tr>\n",
       "    <tr>\n",
       "      <th>2</th>\n",
       "      <td>T003</td>\n",
       "      <td>C003</td>\n",
       "      <td>P002</td>\n",
       "      <td>5</td>\n",
       "      <td>15.0</td>\n",
       "      <td>2023-01-17</td>\n",
       "    </tr>\n",
       "    <tr>\n",
       "      <th>3</th>\n",
       "      <td>T004</td>\n",
       "      <td>C001</td>\n",
       "      <td>P002</td>\n",
       "      <td>3</td>\n",
       "      <td>15.0</td>\n",
       "      <td>2023-02-01</td>\n",
       "    </tr>\n",
       "    <tr>\n",
       "      <th>4</th>\n",
       "      <td>T005</td>\n",
       "      <td>C004</td>\n",
       "      <td>P001</td>\n",
       "      <td>1</td>\n",
       "      <td>20.0</td>\n",
       "      <td>2023-02-05</td>\n",
       "    </tr>\n",
       "  </tbody>\n",
       "</table>\n",
       "</div>"
      ],
      "text/plain": [
       "  TransactionID CustomerID ProductID  Quantity  Price TransactionDate\n",
       "0          T001       C001      P001         2   20.0      2023-01-15\n",
       "1          T002       C002      P003         1   35.5      2023-01-16\n",
       "2          T003       C003      P002         5   15.0      2023-01-17\n",
       "3          T004       C001      P002         3   15.0      2023-02-01\n",
       "4          T005       C004      P001         1   20.0      2023-02-05"
      ]
     },
     "execution_count": 106,
     "metadata": {},
     "output_type": "execute_result"
    }
   ],
   "source": [
    "data.head()"
   ]
  },
  {
   "cell_type": "code",
   "execution_count": 108,
   "id": "552e23c7-e70a-4e3e-8174-8d8e9f87686b",
   "metadata": {},
   "outputs": [
    {
     "data": {
      "text/html": [
       "<div>\n",
       "<style scoped>\n",
       "    .dataframe tbody tr th:only-of-type {\n",
       "        vertical-align: middle;\n",
       "    }\n",
       "\n",
       "    .dataframe tbody tr th {\n",
       "        vertical-align: top;\n",
       "    }\n",
       "\n",
       "    .dataframe thead th {\n",
       "        text-align: right;\n",
       "    }\n",
       "</style>\n",
       "<table border=\"1\" class=\"dataframe\">\n",
       "  <thead>\n",
       "    <tr style=\"text-align: right;\">\n",
       "      <th></th>\n",
       "      <th>Quantity</th>\n",
       "      <th>Price</th>\n",
       "    </tr>\n",
       "  </thead>\n",
       "  <tbody>\n",
       "    <tr>\n",
       "      <th>count</th>\n",
       "      <td>15.000000</td>\n",
       "      <td>15.000000</td>\n",
       "    </tr>\n",
       "    <tr>\n",
       "      <th>mean</th>\n",
       "      <td>2.400000</td>\n",
       "      <td>29.766667</td>\n",
       "    </tr>\n",
       "    <tr>\n",
       "      <th>std</th>\n",
       "      <td>1.242118</td>\n",
       "      <td>14.613920</td>\n",
       "    </tr>\n",
       "    <tr>\n",
       "      <th>min</th>\n",
       "      <td>1.000000</td>\n",
       "      <td>15.000000</td>\n",
       "    </tr>\n",
       "    <tr>\n",
       "      <th>25%</th>\n",
       "      <td>1.500000</td>\n",
       "      <td>17.500000</td>\n",
       "    </tr>\n",
       "    <tr>\n",
       "      <th>50%</th>\n",
       "      <td>2.000000</td>\n",
       "      <td>20.000000</td>\n",
       "    </tr>\n",
       "    <tr>\n",
       "      <th>75%</th>\n",
       "      <td>3.000000</td>\n",
       "      <td>42.750000</td>\n",
       "    </tr>\n",
       "    <tr>\n",
       "      <th>max</th>\n",
       "      <td>5.000000</td>\n",
       "      <td>50.000000</td>\n",
       "    </tr>\n",
       "  </tbody>\n",
       "</table>\n",
       "</div>"
      ],
      "text/plain": [
       "        Quantity      Price\n",
       "count  15.000000  15.000000\n",
       "mean    2.400000  29.766667\n",
       "std     1.242118  14.613920\n",
       "min     1.000000  15.000000\n",
       "25%     1.500000  17.500000\n",
       "50%     2.000000  20.000000\n",
       "75%     3.000000  42.750000\n",
       "max     5.000000  50.000000"
      ]
     },
     "execution_count": 108,
     "metadata": {},
     "output_type": "execute_result"
    }
   ],
   "source": [
    "data.describe()"
   ]
  },
  {
   "cell_type": "code",
   "execution_count": 109,
   "id": "cc3689d5-ea86-488c-bdbf-591979e2f10a",
   "metadata": {},
   "outputs": [
    {
     "name": "stdout",
     "output_type": "stream",
     "text": [
      "<class 'pandas.core.frame.DataFrame'>\n",
      "RangeIndex: 15 entries, 0 to 14\n",
      "Data columns (total 6 columns):\n",
      " #   Column           Non-Null Count  Dtype  \n",
      "---  ------           --------------  -----  \n",
      " 0   TransactionID    15 non-null     object \n",
      " 1   CustomerID       15 non-null     object \n",
      " 2   ProductID        15 non-null     object \n",
      " 3   Quantity         15 non-null     int64  \n",
      " 4   Price            15 non-null     float64\n",
      " 5   TransactionDate  15 non-null     object \n",
      "dtypes: float64(1), int64(1), object(4)\n",
      "memory usage: 852.0+ bytes\n"
     ]
    }
   ],
   "source": [
    "data.info()"
   ]
  },
  {
   "cell_type": "code",
   "execution_count": 110,
   "id": "86dbeae8-61f7-44b1-af00-97fd80a3359f",
   "metadata": {},
   "outputs": [
    {
     "data": {
      "text/plain": [
       "TransactionID      0\n",
       "CustomerID         0\n",
       "ProductID          0\n",
       "Quantity           0\n",
       "Price              0\n",
       "TransactionDate    0\n",
       "dtype: int64"
      ]
     },
     "execution_count": 110,
     "metadata": {},
     "output_type": "execute_result"
    }
   ],
   "source": [
    "data.isnull().sum()"
   ]
  },
  {
   "cell_type": "code",
   "execution_count": 111,
   "id": "adea0d8f-76af-4a88-94ad-83849396c4cc",
   "metadata": {},
   "outputs": [
    {
     "data": {
      "text/plain": [
       "0     False\n",
       "1     False\n",
       "2     False\n",
       "3     False\n",
       "4     False\n",
       "5     False\n",
       "6     False\n",
       "7     False\n",
       "8     False\n",
       "9     False\n",
       "10    False\n",
       "11    False\n",
       "12    False\n",
       "13    False\n",
       "14    False\n",
       "dtype: bool"
      ]
     },
     "execution_count": 111,
     "metadata": {},
     "output_type": "execute_result"
    }
   ],
   "source": [
    "data.duplicated()"
   ]
  },
  {
   "cell_type": "code",
   "execution_count": 118,
   "id": "e244cb40-583c-4d93-a9ae-d30e5dd14fab",
   "metadata": {},
   "outputs": [],
   "source": [
    "from sklearn.model_selection import train_test_split\n",
    "\n",
    "X = df.drop('Price', axis=1)\n",
    "y = df['Price']\n",
    "xtrain, xtest, ytrain, ytest = train_test_split(X, y, test_size=0.02, random_state=42)  "
   ]
  },
  {
   "cell_type": "code",
   "execution_count": 123,
   "id": "8315c28c-f383-402f-a9a5-2b1b07d0f2fc",
   "metadata": {},
   "outputs": [],
   "source": [
    "# from sklearn.preprocessing import StandardScaler\n",
    "# scaler_data = StandardScaler()\n",
    "# X_sclar_data = scaler_data.fit_transform(X)    "
   ]
  },
  {
   "cell_type": "code",
   "execution_count": null,
   "id": "868c315c-b370-4d20-b684-b87ea2f9de43",
   "metadata": {},
   "outputs": [],
   "source": []
  }
 ],
 "metadata": {
  "kernelspec": {
   "display_name": "Python 3 (ipykernel)",
   "language": "python",
   "name": "python3"
  },
  "language_info": {
   "codemirror_mode": {
    "name": "ipython",
    "version": 3
   },
   "file_extension": ".py",
   "mimetype": "text/x-python",
   "name": "python",
   "nbconvert_exporter": "python",
   "pygments_lexer": "ipython3",
   "version": "3.11.8"
  }
 },
 "nbformat": 4,
 "nbformat_minor": 5
}
